{
 "cells": [
  {
   "cell_type": "code",
   "execution_count": 6,
   "metadata": {},
   "outputs": [],
   "source": [
    "import numpy as np\n",
    "from sklearn.metrics.pairwise import cosine_similarity\n",
    "\n",
    "# Step 1: Generate multivariate time series\n",
    "# Random data generation with 5 features and 100 sequence length\n",
    "np.random.seed(0)  # For reproducibility\n",
    "time_series_data = np.random.rand(100, 10)  # 100 sequences, 5 features\n",
    "\n",
    "# Step 2: Generate adjacency matrix based on cosine similarity\n",
    "# Transpose time_series_data to get features as rows for similarity calculation\n",
    "features = time_series_data.T  # 5 features, each with 100 data points\n",
    "adjacency_matrix = cosine_similarity(features)"
   ]
  },
  {
   "cell_type": "code",
   "execution_count": 7,
   "metadata": {},
   "outputs": [],
   "source": [
    "for i in range(adjacency_matrix.shape[0]):\n",
    "    # Find indices of the top 6 values excluding the self-connection (i.e., diagonal)\n",
    "    top_indices = np.argsort(adjacency_matrix[i])[-7:]  # Get top 7, including self-connection\n",
    "    top_indices = top_indices[top_indices != i]  # Remove self-connection index\n",
    "    # Set all other values to zero\n",
    "    mask = np.ones(adjacency_matrix.shape[1], dtype=bool)\n",
    "    mask[top_indices] = False\n",
    "    adjacency_matrix[i, mask] = 0"
   ]
  },
  {
   "cell_type": "code",
   "execution_count": 27,
   "metadata": {},
   "outputs": [],
   "source": [
    "full_adjacency_matrix = adjacency_matrix.copy()"
   ]
  },
  {
   "cell_type": "code",
   "execution_count": 29,
   "metadata": {},
   "outputs": [
    {
     "name": "stdout",
     "output_type": "stream",
     "text": [
      "Feature appearances across different groups:\n",
      "Feature 1: 8 times\n",
      "Feature 2: 6 times\n",
      "Feature 3: 6 times\n",
      "Feature 4: 5 times\n",
      "Feature 5: 7 times\n",
      "Feature 6: 6 times\n",
      "Feature 7: 9 times\n",
      "Feature 8: 6 times\n",
      "Feature 9: 10 times\n",
      "Feature 10: 7 times\n"
     ]
    }
   ],
   "source": [
    "# Prepare lists for data subsets and adjacency matrices\n",
    "datasets = []\n",
    "partial_adj_matrices = []\n",
    "\n",
    "\n",
    "for i in range(full_adjacency_matrix.shape[0]):\n",
    "    connected_features_indices = np.where(full_adjacency_matrix[i] != 0)[0]\n",
    "    connected_features_indices = np.append(connected_features_indices, i)  # Include self\n",
    "    connected_features_indices = np.unique(connected_features_indices)  # Remove duplicates\n",
    "\n",
    "    partial_dataset = features[connected_features_indices]\n",
    "    partial_adj_matrix = full_adjacency_matrix[np.ix_(connected_features_indices, connected_features_indices)]\n",
    "\n",
    "    datasets.append(partial_dataset)\n",
    "    partial_adj_matrices.append(partial_adj_matrix)\n",
    "\n",
    "## Initialize the count dictionary\n",
    "feature_counts = {i: 0 for i in range(10)}  # Assuming 10 features as before\n",
    "\n",
    "# We need to keep track of which features are used in each dataset.\n",
    "# I'm adjusting the previous code snippet to directly use these indices for counting.\n",
    "for i in range(full_adjacency_matrix.shape[0]):\n",
    "    connected_features_indices = np.where(full_adjacency_matrix[i] != 0)[0]\n",
    "    connected_features_indices = np.append(connected_features_indices, i)  # Include self\n",
    "    connected_features_indices = np.unique(connected_features_indices)  # Remove duplicates\n",
    "\n",
    "    # Count the appearances of each feature\n",
    "    for feature_index in connected_features_indices:\n",
    "        feature_counts[feature_index] += 1\n",
    "\n",
    "# Display results\n",
    "print(\"Feature appearances across different groups:\")\n",
    "for feature, count in feature_counts.items():\n",
    "    print(f\"Feature {feature + 1}: {count} times\")"
   ]
  },
  {
   "cell_type": "code",
   "execution_count": null,
   "metadata": {},
   "outputs": [],
   "source": []
  }
 ],
 "metadata": {
  "kernelspec": {
   "display_name": "Python 3",
   "language": "python",
   "name": "python3"
  },
  "language_info": {
   "codemirror_mode": {
    "name": "ipython",
    "version": 3
   },
   "file_extension": ".py",
   "mimetype": "text/x-python",
   "name": "python",
   "nbconvert_exporter": "python",
   "pygments_lexer": "ipython3",
   "version": "3.10.12"
  }
 },
 "nbformat": 4,
 "nbformat_minor": 2
}
